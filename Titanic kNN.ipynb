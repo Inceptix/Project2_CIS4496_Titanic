{
 "cells": [
  {
   "cell_type": "code",
   "execution_count": 1,
   "metadata": {},
   "outputs": [
    {
     "name": "stdout",
     "output_type": "stream",
     "text": [
      "0.8947368421052632\n"
     ]
    }
   ],
   "source": [
    "import numpy as np\n",
    "import pandas as pd\n",
    "from sklearn import neighbors, datasets, preprocessing\n",
    "from sklearn.impute import KNNImputer\n",
    "from sklearn.preprocessing import StandardScaler\n",
    "\n",
    "\n",
    "genderSubmission_df = pd.read_csv(\"https://raw.githubusercontent.com/Inceptix/Project2_CIS4496_Titanic/main/gender_submission.csv\")\n",
    "\n",
    "test_df = pd.read_csv(\"https://raw.githubusercontent.com/Inceptix/Project2_CIS4496_Titanic/main/test.csv\")\n",
    "test_df['Sex'] = test_df['Sex'].astype('category').cat.codes\n",
    "test_df['Cabin'] = test_df['Cabin'].astype('category').cat.codes\n",
    "test_df[\"Embarked\"] = test_df['Embarked'].astype('category').cat.codes\n",
    "\n",
    "train_df = pd.read_csv(\"https://raw.githubusercontent.com/Inceptix/Project2_CIS4496_Titanic/main/train.csv\")\n",
    "train_df['Sex'] = train_df['Sex'].astype('category').cat.codes\n",
    "train_df['Cabin'] = train_df['Cabin'].astype('category').cat.codes\n",
    "train_df[\"Embarked\"] = train_df['Embarked'].astype('category').cat.codes\n",
    "\n",
    "\n",
    "k = 7 # how many nearest neighbors are consulted\n",
    "\n",
    "X_train = train_df[['Pclass', 'Sex', 'Age', 'SibSp', 'Parch', 'Fare', 'Cabin', 'Embarked']]\n",
    "y_train = train_df[['Survived']]\n",
    "\n",
    "imputer = KNNImputer(n_neighbors=3)\n",
    "X_train = imputer.fit_transform(X_train)\n",
    "\n",
    "scaler = StandardScaler()\n",
    "scaler.fit(X_train)\n",
    "X_train = scaler.transform(X_train)\n",
    "\n",
    "\n",
    "predictor = neighbors.KNeighborsClassifier(n_neighbors = k)\n",
    "predictor.fit(X_train, np.ravel(y_train));\n",
    "\n",
    "test_df = test_df.merge(genderSubmission_df, how='inner')\n",
    "X_test =  test_df[['Pclass', 'Sex', 'Age', 'SibSp', 'Parch', 'Fare', 'Cabin', 'Embarked']]\n",
    "X_test = imputer.fit_transform(X_test)\n",
    "X_test = scaler.transform(X_test)\n",
    "y_test = test_df[['Survived']]\n",
    "yhat = predictor.predict(X_test)\n",
    "accuracy = predictor.score(X_test, y_test)\n",
    "print(accuracy)\n",
    "\n"
   ]
  },
  {
   "cell_type": "code",
   "execution_count": null,
   "metadata": {},
   "outputs": [],
   "source": []
  }
 ],
 "metadata": {
  "kernelspec": {
   "display_name": "Python 3",
   "language": "python",
   "name": "python3"
  },
  "language_info": {
   "codemirror_mode": {
    "name": "ipython",
    "version": 3
   },
   "file_extension": ".py",
   "mimetype": "text/x-python",
   "name": "python",
   "nbconvert_exporter": "python",
   "pygments_lexer": "ipython3",
   "version": "3.8.5"
  }
 },
 "nbformat": 4,
 "nbformat_minor": 2
}
